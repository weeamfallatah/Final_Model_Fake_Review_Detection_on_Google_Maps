{
  "cells": [
    {
      "cell_type": "markdown",
      "metadata": {
        "colab_type": "text",
        "id": "view-in-github"
      },
      "source": [
        "<a href=\"https://colab.research.google.com/github/MahithShetty/YelpFakeReviewDetection/blob/main/Final_Model_Fake_Review_Detection_on_Yelp_Restaurant_Data.ipynb\" target=\"_parent\"><img src=\"https://colab.research.google.com/assets/colab-badge.svg\" alt=\"Open In Colab\"/></a>"
      ]
    },
    {
      "cell_type": "markdown",
      "metadata": {},
      "source": [
        "\n",
        "import json\n",
        "from outscraper import ApiClient\n",
        "\n",
        "api_cliet = ApiClient(api_key='Z29vZ2xlLW9hdXRoMnwxMDEyOTQ2MjUxMzg0MTA2NTg5Mzh8OTJlNjY5NGUzYg')\n",
        "\n",
        "response = api_cliet.google_maps_reviews(\n",
        "    'https://www.google.com.sa/maps/place/Golden+Royal+Restaurant+LLC/@21.5623684,39.206369,15z/data=!4m5!3m4!1s0x15c3d1679b2aeb3b:0x91cfbb17454ea0b4!8m2!3d21.5546421!4d39.2111619?hl=en&authuser=0',\n",
        "   language='en', limit=1 , reviewsLimit=3\n",
        ")\n",
        "\n",
        "\t\t\t\t\n",
        "with open('maps_result6.json','w' ) as file:\n",
        "    json.dump(response , file , indent=4)\n",
        "++"
      ]
    },
    {
      "cell_type": "markdown",
      "metadata": {
        "id": "soLnWRFeqFWV"
      },
      "source": [
        "# Importing Dataset"
      ]
    },
    {
      "cell_type": "code",
      "execution_count": 1,
      "metadata": {},
      "outputs": [
        {
          "name": "stderr",
          "output_type": "stream",
          "text": [
            "c:\\Users\\w_ewe\\AppData\\Local\\Programs\\Python\\Python310\\lib\\site-packages\\requests\\__init__.py:89: RequestsDependencyWarning: urllib3 (1.26.9) or chardet (3.0.4) doesn't match a supported version!\n",
            "  warnings.warn(\"urllib3 ({}) or chardet ({}) doesn't match a supported \"\n",
            "[nltk_data] Downloading package punkt to\n",
            "[nltk_data]     C:\\Users\\w_ewe\\AppData\\Roaming\\nltk_data...\n",
            "[nltk_data]   Package punkt is already up-to-date!\n",
            "[nltk_data] Downloading package stopwords to\n",
            "[nltk_data]     C:\\Users\\w_ewe\\AppData\\Roaming\\nltk_data...\n",
            "[nltk_data]   Package stopwords is already up-to-date!\n"
          ]
        }
      ],
      "source": [
        "# coding: utf-8 \n",
        "\n",
        "import pandas as pd\n",
        "import numpy as np\n",
        "import pandas as pd\n",
        "import matplotlib as mb\n",
        "import matplotlib.pyplot as plt\n",
        "from textblob import TextBlob\n",
        "from textblob.sentiments import NaiveBayesAnalyzer\n",
        "import re\n",
        "import collections\n",
        "from nltk.tokenize import word_tokenize\n",
        "import string\n",
        "from nltk.corpus import stopwords\n",
        "\n",
        "import numpy as np\n",
        "\n",
        "import pymongo,pandas as pd\n",
        "from bson import ObjectId\n",
        "\n",
        "import matplotlib as mb\n",
        "import matplotlib.pyplot as plt\n",
        "from matplotlib.backends.backend_pdf import PdfPages\n",
        "import plotnine as p9\n",
        "\n",
        "from textblob import TextBlob\n",
        "from textblob.sentiments import NaiveBayesAnalyzer\n",
        "\n",
        "from dateutil import parser\n",
        "from pandas import Timestamp\n",
        "\n",
        "#from ggplot import *\n",
        "from pandas.plotting import register_matplotlib_converters\n",
        "register_matplotlib_converters()\n",
        "\n",
        "import nltk\n",
        "from nltk.tokenize import word_tokenize\n",
        "from nltk.corpus import stopwords\n",
        "from nltk.stem import PorterStemmer\n",
        "\n",
        "import math\n",
        "\n",
        "\n",
        "nltk.download('punkt')\n",
        "nltk.download('stopwords')\n",
        "\n",
        "\n",
        "# import SentimentIntensityAnalyzer class\n",
        "# from vaderSentiment.vaderSentiment module.\n",
        "from vaderSentiment.vaderSentiment import SentimentIntensityAnalyzer\n",
        "\n",
        "import pandas as pd\n",
        "import numpy as np\n",
        "\n",
        "#downloaded = drive.CreateFile({'id':id}) \n",
        "#downloaded.GetContentFile('yelp_restaurants_500k.csv')  "
      ]
    },
    {
      "cell_type": "code",
      "execution_count": 2,
      "metadata": {
        "colab": {
          "base_uri": "https://localhost:8080/",
          "height": 520
        },
        "id": "HCXiVoZNpzYH",
        "outputId": "013c90a3-682b-4a52-984d-47ebfa8f08ea"
      },
      "outputs": [],
      "source": [
        "\n",
        "data = pd.read_csv('Google_dataset5.csv', header=0, sep=',', quotechar='\"')"
      ]
    },
    {
      "cell_type": "markdown",
      "metadata": {
        "id": "xnxSp74dqQuf"
      },
      "source": [
        "# Data Pre-processing"
      ]
    },
    {
      "cell_type": "code",
      "execution_count": 3,
      "metadata": {
        "colab": {
          "base_uri": "https://localhost:8080/",
          "height": 189
        },
        "id": "SbbBn9Hgp3gB",
        "outputId": "07d91b36-090e-4b97-d89e-089f583b4a18"
      },
      "outputs": [
        {
          "data": {
            "text/html": [
              "<div>\n",
              "<style scoped>\n",
              "    .dataframe tbody tr th:only-of-type {\n",
              "        vertical-align: middle;\n",
              "    }\n",
              "\n",
              "    .dataframe tbody tr th {\n",
              "        vertical-align: top;\n",
              "    }\n",
              "\n",
              "    .dataframe thead th {\n",
              "        text-align: right;\n",
              "    }\n",
              "</style>\n",
              "<table border=\"1\" class=\"dataframe\">\n",
              "  <thead>\n",
              "    <tr style=\"text-align: right;\">\n",
              "      <th></th>\n",
              "      <th>0</th>\n",
              "    </tr>\n",
              "  </thead>\n",
              "  <tbody>\n",
              "    <tr>\n",
              "      <th>0</th>\n",
              "      <td>النادي نظيف للغاية التعقيم بشكل مستمر اخصائية ...</td>\n",
              "    </tr>\n",
              "    <tr>\n",
              "      <th>1</th>\n",
              "      <td>نظافة اهتمام بالاحترازات ومراقبه الكمام ماعدا ...</td>\n",
              "    </tr>\n",
              "    <tr>\n",
              "      <th>2</th>\n",
              "      <td>من اجمل النوادي.. مشمس بالنهار والمدربات ممتاز...</td>\n",
              "    </tr>\n",
              "    <tr>\n",
              "      <th>3</th>\n",
              "      <td>النادي نظيف والمدربات كويسات وعندهم أخصائيات ع...</td>\n",
              "    </tr>\n",
              "    <tr>\n",
              "      <th>4</th>\n",
              "      <td>النادي جميل ومدربات رائعات لكن ٤ نجوم لصغر حجمه</td>\n",
              "    </tr>\n",
              "  </tbody>\n",
              "</table>\n",
              "</div>"
            ],
            "text/plain": [
              "                                                   0\n",
              "0  النادي نظيف للغاية التعقيم بشكل مستمر اخصائية ...\n",
              "1  نظافة اهتمام بالاحترازات ومراقبه الكمام ماعدا ...\n",
              "2  من اجمل النوادي.. مشمس بالنهار والمدربات ممتاز...\n",
              "3  النادي نظيف والمدربات كويسات وعندهم أخصائيات ع...\n",
              "4    النادي جميل ومدربات رائعات لكن ٤ نجوم لصغر حجمه"
            ]
          },
          "execution_count": 3,
          "metadata": {},
          "output_type": "execute_result"
        }
      ],
      "source": [
        "data['review_text'] = data.review_text.astype(str)\n",
        "textData = pd.DataFrame(list(data['review_text']))\n",
        "textData.head()"
      ]
    },
    {
      "cell_type": "code",
      "execution_count": 4,
      "metadata": {},
      "outputs": [
        {
          "data": {
            "text/plain": [
              "query                                  69\n",
              "name                                   69\n",
              "google_id                              69\n",
              "place_id                               69\n",
              "location_link                          69\n",
              "reviews_link                           69\n",
              "reviews_per_score                      69\n",
              "rating                                 69\n",
              "review_id                              69\n",
              "author_link                            69\n",
              "author_title                           69\n",
              "author_id                              69\n",
              "author_image                           69\n",
              "review_text                            69\n",
              "review_img_url                         69\n",
              "owner_answer                            0\n",
              "owner_answer_timestamp                  0\n",
              "owner_answer_timestamp_datetime_utc     0\n",
              "review_link                            69\n",
              "review_rating                          69\n",
              "review_timestamp                       69\n",
              "review_datetime_utc                    69\n",
              "review_likes                           69\n",
              "reviews_id                             69\n",
              "dtype: int64"
            ]
          },
          "execution_count": 4,
          "metadata": {},
          "output_type": "execute_result"
        }
      ],
      "source": [
        "data.count()"
      ]
    },
    {
      "cell_type": "markdown",
      "metadata": {
        "id": "yh79WyTCrBLl"
      },
      "source": [
        "Making a customized list of stop words"
      ]
    },
    {
      "cell_type": "markdown",
      "metadata": {
        "id": "6YCZEtxsrKB8"
      },
      "source": [
        "Cleaning Text\n",
        "- Remove punctions\n",
        "- Remove digits\n",
        "- Split sentences on whitespace \n",
        "- Remove stopwords"
      ]
    },
    {
      "cell_type": "code",
      "execution_count": 5,
      "metadata": {},
      "outputs": [],
      "source": [
        "\n",
        "#الإلغاء المكرر\n",
        "data.duplicated().value_counts()\n",
        "\n",
        "# filling a null values using fillna() \n",
        "data[\"review_text\"].fillna(\"missing data\", inplace = True) \n",
        "\n",
        "# Define a function to clean the text\n",
        "\n",
        "text = data[['review_text']]\n",
        "# Removes all special characters and numericals leaving the alphabets\n",
        "def clean_text(text):  \n",
        "    search = [\"أ\",\"إ\",\"آ\",\"ة\",\"_\",\"-\",\"/\",\".\",\"،\",\" و \",\" يا \",'\"',\"ـ\",\"'\",\"ى\",\n",
        "              \"\\\\\",'\\n', '\\t','&quot;','?','؟','!','(تمت الترجمة بواسطة Google.)','تمت الترجمه بواسطه' , 'التعليق الاصلي']\n",
        "    replace = [\"ا\",\"ا\",\"ا\",\"ه\",\" \",\" \",\"\",\"\",\"\",\" و\",\" يا\",\n",
        "               \"\",\"\",\"\",\"ي\",\"\",' ', ' ',' ',' ? ',' ؟ ', ' ! ',' ',' ',' ']\n",
        "    \n",
        "    tashkeel = re.compile(r'[\\u0617-\\u061A\\u064B-\\u0652]')\n",
        "    text = re.sub(tashkeel,\"\", text)\n",
        "    \n",
        "    longation = re.compile(r'(.)\\1+')\n",
        "    subst = r\"\\1\\1\"\n",
        "    text = re.sub(longation, subst, text)\n",
        "    \n",
        "    text = re.sub(r\"[^\\w\\s]\", '', text)\n",
        "    text = re.sub(r\"[a-zA-Z]\", '', text)\n",
        "    text = re.sub(r\"\\d+\", ' ', text)\n",
        "    text = re.sub(r\"\\n+\", ' ', text)\n",
        "    text = re.sub(r\"\\t+\", ' ', text)\n",
        "    text = re.sub(r\"\\r+\", ' ', text)\n",
        "    text = re.sub(r\"\\s+\", ' ', text)\n",
        "    text = text.replace('وو', 'و')\n",
        "    text = text.replace('يي', 'ي')\n",
        "    text = text.replace('اا', 'ا')\n",
        "    text = re.sub(\"[إأٱآا]\", \"ا\", text)\n",
        "    text = re.sub(\"ى\", \"ي\", text)\n",
        "    text = re.sub(\"ؤ\", \"ء\", text)\n",
        "    text = re.sub(\"ئ\", \"ء\", text)\n",
        "    text = text.replace('(تمت الترجمة بواسطة Google.)', ' ')\n",
        "    text = text.replace('تمت الترجمه بواسطه', ' ')\n",
        "    text = text.replace('التعليق الاصلي', ' ')\n",
        "   \n",
        "    text = re.sub(\"[a-zA-Z0-9_]\",'',text)\n",
        "    noise = re.compile(\"\"\" ّ    | # Tashdid\n",
        "                             َ    | # Fatha\n",
        "                             ً    | # Tanwin Fath\n",
        "                             ُ    | # Damma\n",
        "                             ٌ    | # Tanwin Damm\n",
        "                             ِ    | # Kasra\n",
        "                             ٍ    | # Tanwin Kasr\n",
        "                             ْ    | # Sukun\n",
        "                             ـ     # Tatwil/Kashida\n",
        "                         \"\"\", re.VERBOSE)\n",
        "    text = re.sub(noise, '', text)\n",
        "\n",
        "    for i in range(0, len(search)):\n",
        "        text = text.replace(search[i], replace[i])\n",
        "    \n",
        "    text = text.strip()\n",
        "    \n",
        "\n",
        "    return text\n",
        "\n",
        "# Cleaning the text in the review column\n",
        "data['Cleaned_Reviews'] = data['review_text'].apply(clean_text)    \n"
      ]
    },
    {
      "cell_type": "code",
      "execution_count": 6,
      "metadata": {},
      "outputs": [],
      "source": [
        "words = data['Cleaned_Reviews'].iteritems #عشان نعمل لوب صف صف\n",
        "count =  data['Cleaned_Reviews'].count() #يحسب عدد الصفوف\n",
        "\n",
        "for index, row in words():\n",
        "\n",
        "    def tokenize_text(row): \n",
        "        row = row.split() # Split string into words\n",
        "        row = [w for w in row if w not in stopwords.words(\"arabic\")] # Remove stopwords\n",
        "        row = [PorterStemmer().stem(w) for w in row] # stem\n",
        "        return \" \".join(row) # هذا لو ابغاه يرجعها ليا جملة و حدة\n",
        "    \n",
        "    if index == count - 1:\n",
        "        break\n",
        "    \n",
        "# Tokenization the text in the Cleaned_Reviews column\n",
        "data['Tokeniz_Reviews'] = data['Cleaned_Reviews'].apply(tokenize_text)    "
      ]
    },
    {
      "cell_type": "code",
      "execution_count": 7,
      "metadata": {},
      "outputs": [],
      "source": [
        "# Replace on all selected columns\n",
        "data['pTokeniz_Reviews'] = data[['Tokeniz_Reviews']].apply(lambda x: x.str.strip()).replace('', np.nan)\n",
        "\n",
        "# filling a null values using fillna() \n",
        "data[\"pTokeniz_Reviews\"].fillna(\"missing data\", inplace = True) "
      ]
    },
    {
      "cell_type": "code",
      "execution_count": 8,
      "metadata": {},
      "outputs": [],
      "source": [
        "#size = 1000\n",
        "#list_of_dfs = [data.loc[i:i+size-1,:] for i in range(0, len(data),size)]"
      ]
    },
    {
      "cell_type": "code",
      "execution_count": 9,
      "metadata": {},
      "outputs": [],
      "source": [
        "\n",
        "words = data['pTokeniz_Reviews'].iteritems #عشان نعمل لوب صف صف\n",
        "count =  data['pTokeniz_Reviews'].count() #يحسب عدد الصفوف\n",
        "\n",
        "\n",
        "for index, row in words(): \n",
        "  if row == \"  \" :\n",
        "    continue\n",
        "\n",
        "  def translat_text(row):\n",
        "      row= TextBlob(row).translate(from_lang='ar' , to='en')  \n",
        "      return \"\".join(row) \n",
        "\n",
        "  if index == count - 1:\n",
        "    break \n",
        "\n",
        "# Translated text in the Cleaned_Reviews column\n",
        "data['Translated_Reviews'] = data['pTokeniz_Reviews'].apply(translat_text ) "
      ]
    },
    {
      "cell_type": "markdown",
      "metadata": {
        "id": "reynlPIdtknn"
      },
      "source": [
        "Adding custom features"
      ]
    },
    {
      "cell_type": "code",
      "execution_count": 10,
      "metadata": {
        "id": "8pb2NF3iuj01"
      },
      "outputs": [],
      "source": [
        "# We will be using only 150 words for learning for each review\n",
        "def trim_data_lem(text):\n",
        "  text = word_tokenize(text)\n",
        "  temp = \" \".join(x for x in text[:148])\n",
        "  return temp\n",
        "data['trim_data_lemmatized'] = data['Translated_Reviews'].apply(lambda x : trim_data_lem(x))\n",
        "maxReviewLength = 155"
      ]
    },
    {
      "cell_type": "code",
      "execution_count": 11,
      "metadata": {},
      "outputs": [],
      "source": [
        "# adding all the features and other parameters\n",
        "data['final_data_lemmatized'] = data['trim_data_lemmatized'].astype(str) + \" \"+ data['name'].astype(str) + \" \" + data['rating'].astype(str)+ \" \" + data['review_text'].astype(str) + \" \" + data['review_rating'].astype(str) "
      ]
    },
    {
      "cell_type": "code",
      "execution_count": 12,
      "metadata": {},
      "outputs": [
        {
          "data": {
            "text/html": [
              "<div>\n",
              "<style scoped>\n",
              "    .dataframe tbody tr th:only-of-type {\n",
              "        vertical-align: middle;\n",
              "    }\n",
              "\n",
              "    .dataframe tbody tr th {\n",
              "        vertical-align: top;\n",
              "    }\n",
              "\n",
              "    .dataframe thead th {\n",
              "        text-align: right;\n",
              "    }\n",
              "</style>\n",
              "<table border=\"1\" class=\"dataframe\">\n",
              "  <thead>\n",
              "    <tr style=\"text-align: right;\">\n",
              "      <th></th>\n",
              "      <th>rating</th>\n",
              "      <th>owner_answer</th>\n",
              "      <th>owner_answer_timestamp</th>\n",
              "      <th>owner_answer_timestamp_datetime_utc</th>\n",
              "      <th>review_rating</th>\n",
              "      <th>review_timestamp</th>\n",
              "      <th>review_likes</th>\n",
              "      <th>reviews_id</th>\n",
              "      <th>reviewLength_after_lemmatize</th>\n",
              "    </tr>\n",
              "  </thead>\n",
              "  <tbody>\n",
              "    <tr>\n",
              "      <th>count</th>\n",
              "      <td>6.900000e+01</td>\n",
              "      <td>0.0</td>\n",
              "      <td>0.0</td>\n",
              "      <td>0.0</td>\n",
              "      <td>69.000000</td>\n",
              "      <td>6.900000e+01</td>\n",
              "      <td>69.000000</td>\n",
              "      <td>6.900000e+01</td>\n",
              "      <td>69.000000</td>\n",
              "    </tr>\n",
              "    <tr>\n",
              "      <th>mean</th>\n",
              "      <td>4.200000e+00</td>\n",
              "      <td>NaN</td>\n",
              "      <td>NaN</td>\n",
              "      <td>NaN</td>\n",
              "      <td>4.246377</td>\n",
              "      <td>1.571890e+09</td>\n",
              "      <td>0.913043</td>\n",
              "      <td>-6.785113e+18</td>\n",
              "      <td>179.565217</td>\n",
              "    </tr>\n",
              "    <tr>\n",
              "      <th>std</th>\n",
              "      <td>8.946853e-16</td>\n",
              "      <td>NaN</td>\n",
              "      <td>NaN</td>\n",
              "      <td>NaN</td>\n",
              "      <td>1.129885</td>\n",
              "      <td>4.293267e+07</td>\n",
              "      <td>1.712747</td>\n",
              "      <td>2.063004e+03</td>\n",
              "      <td>248.174421</td>\n",
              "    </tr>\n",
              "    <tr>\n",
              "      <th>min</th>\n",
              "      <td>4.200000e+00</td>\n",
              "      <td>NaN</td>\n",
              "      <td>NaN</td>\n",
              "      <td>NaN</td>\n",
              "      <td>1.000000</td>\n",
              "      <td>1.502199e+09</td>\n",
              "      <td>0.000000</td>\n",
              "      <td>-6.785113e+18</td>\n",
              "      <td>20.000000</td>\n",
              "    </tr>\n",
              "    <tr>\n",
              "      <th>25%</th>\n",
              "      <td>4.200000e+00</td>\n",
              "      <td>NaN</td>\n",
              "      <td>NaN</td>\n",
              "      <td>NaN</td>\n",
              "      <td>4.000000</td>\n",
              "      <td>1.536057e+09</td>\n",
              "      <td>0.000000</td>\n",
              "      <td>-6.785113e+18</td>\n",
              "      <td>48.000000</td>\n",
              "    </tr>\n",
              "    <tr>\n",
              "      <th>50%</th>\n",
              "      <td>4.200000e+00</td>\n",
              "      <td>NaN</td>\n",
              "      <td>NaN</td>\n",
              "      <td>NaN</td>\n",
              "      <td>5.000000</td>\n",
              "      <td>1.570383e+09</td>\n",
              "      <td>0.000000</td>\n",
              "      <td>-6.785113e+18</td>\n",
              "      <td>102.000000</td>\n",
              "    </tr>\n",
              "    <tr>\n",
              "      <th>75%</th>\n",
              "      <td>4.200000e+00</td>\n",
              "      <td>NaN</td>\n",
              "      <td>NaN</td>\n",
              "      <td>NaN</td>\n",
              "      <td>5.000000</td>\n",
              "      <td>1.609865e+09</td>\n",
              "      <td>1.000000</td>\n",
              "      <td>-6.785113e+18</td>\n",
              "      <td>236.000000</td>\n",
              "    </tr>\n",
              "    <tr>\n",
              "      <th>max</th>\n",
              "      <td>4.200000e+00</td>\n",
              "      <td>NaN</td>\n",
              "      <td>NaN</td>\n",
              "      <td>NaN</td>\n",
              "      <td>5.000000</td>\n",
              "      <td>1.649149e+09</td>\n",
              "      <td>10.000000</td>\n",
              "      <td>-6.785113e+18</td>\n",
              "      <td>1724.000000</td>\n",
              "    </tr>\n",
              "  </tbody>\n",
              "</table>\n",
              "</div>"
            ],
            "text/plain": [
              "             rating  owner_answer  owner_answer_timestamp  \\\n",
              "count  6.900000e+01           0.0                     0.0   \n",
              "mean   4.200000e+00           NaN                     NaN   \n",
              "std    8.946853e-16           NaN                     NaN   \n",
              "min    4.200000e+00           NaN                     NaN   \n",
              "25%    4.200000e+00           NaN                     NaN   \n",
              "50%    4.200000e+00           NaN                     NaN   \n",
              "75%    4.200000e+00           NaN                     NaN   \n",
              "max    4.200000e+00           NaN                     NaN   \n",
              "\n",
              "       owner_answer_timestamp_datetime_utc  review_rating  review_timestamp  \\\n",
              "count                                  0.0      69.000000      6.900000e+01   \n",
              "mean                                   NaN       4.246377      1.571890e+09   \n",
              "std                                    NaN       1.129885      4.293267e+07   \n",
              "min                                    NaN       1.000000      1.502199e+09   \n",
              "25%                                    NaN       4.000000      1.536057e+09   \n",
              "50%                                    NaN       5.000000      1.570383e+09   \n",
              "75%                                    NaN       5.000000      1.609865e+09   \n",
              "max                                    NaN       5.000000      1.649149e+09   \n",
              "\n",
              "       review_likes    reviews_id  reviewLength_after_lemmatize  \n",
              "count     69.000000  6.900000e+01                     69.000000  \n",
              "mean       0.913043 -6.785113e+18                    179.565217  \n",
              "std        1.712747  2.063004e+03                    248.174421  \n",
              "min        0.000000 -6.785113e+18                     20.000000  \n",
              "25%        0.000000 -6.785113e+18                     48.000000  \n",
              "50%        0.000000 -6.785113e+18                    102.000000  \n",
              "75%        1.000000 -6.785113e+18                    236.000000  \n",
              "max       10.000000 -6.785113e+18                   1724.000000  "
            ]
          },
          "execution_count": 12,
          "metadata": {},
          "output_type": "execute_result"
        }
      ],
      "source": [
        "data['reviewLength_after_lemmatize']= data['final_data_lemmatized'].apply(lambda x: len(x)-x.count(\" \"))\n",
        "data.describe()"
      ]
    },
    {
      "cell_type": "code",
      "execution_count": 13,
      "metadata": {},
      "outputs": [
        {
          "data": {
            "text/html": [
              "<div>\n",
              "<style scoped>\n",
              "    .dataframe tbody tr th:only-of-type {\n",
              "        vertical-align: middle;\n",
              "    }\n",
              "\n",
              "    .dataframe tbody tr th {\n",
              "        vertical-align: top;\n",
              "    }\n",
              "\n",
              "    .dataframe thead th {\n",
              "        text-align: right;\n",
              "    }\n",
              "</style>\n",
              "<table border=\"1\" class=\"dataframe\">\n",
              "  <thead>\n",
              "    <tr style=\"text-align: right;\">\n",
              "      <th></th>\n",
              "      <th>query</th>\n",
              "      <th>name</th>\n",
              "      <th>google_id</th>\n",
              "      <th>place_id</th>\n",
              "      <th>location_link</th>\n",
              "      <th>reviews_link</th>\n",
              "      <th>reviews_per_score</th>\n",
              "      <th>rating</th>\n",
              "      <th>review_id</th>\n",
              "      <th>author_link</th>\n",
              "      <th>...</th>\n",
              "      <th>review_datetime_utc</th>\n",
              "      <th>review_likes</th>\n",
              "      <th>reviews_id</th>\n",
              "      <th>Cleaned_Reviews</th>\n",
              "      <th>Tokeniz_Reviews</th>\n",
              "      <th>pTokeniz_Reviews</th>\n",
              "      <th>Translated_Reviews</th>\n",
              "      <th>trim_data_lemmatized</th>\n",
              "      <th>final_data_lemmatized</th>\n",
              "      <th>reviewLength_after_lemmatize</th>\n",
              "    </tr>\n",
              "  </thead>\n",
              "  <tbody>\n",
              "    <tr>\n",
              "      <th>0</th>\n",
              "      <td>gym, Jeddah, Makkah, Saudi Arabia</td>\n",
              "      <td>نادي باقدو</td>\n",
              "      <td>0x15c3d007617bf6cd:0xa1d66f8d697880e6</td>\n",
              "      <td>ChIJzfZ7YQfQwxUR5oB4aY1v1qE</td>\n",
              "      <td>https://www.google.com/maps/place/%D9%86%D8%A7...</td>\n",
              "      <td>https://search.google.com/local/reviews?placei...</td>\n",
              "      <td>{\"1\": 11, \"2\": 3, \"3\": 16, \"4\": 21, \"5\": 84}</td>\n",
              "      <td>4.2</td>\n",
              "      <td>ChdDSUhNMG9nS0VJQ0FnSUNXMFB1eGpBRRAB</td>\n",
              "      <td>https://www.google.com/maps/contrib/1008799843...</td>\n",
              "      <td>...</td>\n",
              "      <td>02/15/2022 16:24:51</td>\n",
              "      <td>0</td>\n",
              "      <td>-6785113135436496666</td>\n",
              "      <td>النادي نظيف للغايه التعقيم بشكل مستمر اخصاءيه ...</td>\n",
              "      <td>النادي نظيف للغايه التعقيم بشكل مستمر اخصاءيه ...</td>\n",
              "      <td>النادي نظيف للغايه التعقيم بشكل مستمر اخصاءيه ...</td>\n",
              "      <td>The club is very clean sterilization continuously</td>\n",
              "      <td>The club is very clean sterilization continuously</td>\n",
              "      <td>The club is very clean sterilization continuou...</td>\n",
              "      <td>284</td>\n",
              "    </tr>\n",
              "    <tr>\n",
              "      <th>1</th>\n",
              "      <td>gym, Jeddah, Makkah, Saudi Arabia</td>\n",
              "      <td>نادي باقدو</td>\n",
              "      <td>0x15c3d007617bf6cd:0xa1d66f8d697880e6</td>\n",
              "      <td>ChIJzfZ7YQfQwxUR5oB4aY1v1qE</td>\n",
              "      <td>https://www.google.com/maps/place/%D9%86%D8%A7...</td>\n",
              "      <td>https://search.google.com/local/reviews?placei...</td>\n",
              "      <td>{\"1\": 11, \"2\": 3, \"3\": 16, \"4\": 21, \"5\": 84}</td>\n",
              "      <td>4.2</td>\n",
              "      <td>ChZDSUhNMG9nS0VJQ0FnSURLNWZ5YmV3EAE</td>\n",
              "      <td>https://www.google.com/maps/contrib/1040919533...</td>\n",
              "      <td>...</td>\n",
              "      <td>06/27/2021 22:07:36</td>\n",
              "      <td>10</td>\n",
              "      <td>-6785113135436496666</td>\n",
              "      <td>نظافه اهتمام بالاحترازات ومراقبه الكمام ماعدا ...</td>\n",
              "      <td>نظافه اهتمام بالاحترازات ومراقبه الكمام ماعدا ...</td>\n",
              "      <td>نظافه اهتمام بالاحترازات ومراقبه الكمام ماعدا ...</td>\n",
              "      <td>Cleaning interest in precautions and observati...</td>\n",
              "      <td>Cleaning interest in precautions and observati...</td>\n",
              "      <td>Cleaning interest in precautions and observati...</td>\n",
              "      <td>1724</td>\n",
              "    </tr>\n",
              "    <tr>\n",
              "      <th>2</th>\n",
              "      <td>gym, Jeddah, Makkah, Saudi Arabia</td>\n",
              "      <td>نادي باقدو</td>\n",
              "      <td>0x15c3d007617bf6cd:0xa1d66f8d697880e6</td>\n",
              "      <td>ChIJzfZ7YQfQwxUR5oB4aY1v1qE</td>\n",
              "      <td>https://www.google.com/maps/place/%D9%86%D8%A7...</td>\n",
              "      <td>https://search.google.com/local/reviews?placei...</td>\n",
              "      <td>{\"1\": 11, \"2\": 3, \"3\": 16, \"4\": 21, \"5\": 84}</td>\n",
              "      <td>4.2</td>\n",
              "      <td>ChZDSUhNMG9nS0VJQ0FnSUNXNS1IeGFBEAE</td>\n",
              "      <td>https://www.google.com/maps/contrib/1074136482...</td>\n",
              "      <td>...</td>\n",
              "      <td>03/08/2022 18:09:01</td>\n",
              "      <td>1</td>\n",
              "      <td>-6785113135436496666</td>\n",
              "      <td>من اجمل النوادي مشمس بالنهار والمدربات ممتازات...</td>\n",
              "      <td>اجمل النوادي مشمس بالنهار والمدربات ممتازات صا...</td>\n",
              "      <td>اجمل النوادي مشمس بالنهار والمدربات ممتازات صا...</td>\n",
              "      <td>The most beautiful clubs are sunny during the ...</td>\n",
              "      <td>The most beautiful clubs are sunny during the ...</td>\n",
              "      <td>The most beautiful clubs are sunny during the ...</td>\n",
              "      <td>172</td>\n",
              "    </tr>\n",
              "    <tr>\n",
              "      <th>3</th>\n",
              "      <td>gym, Jeddah, Makkah, Saudi Arabia</td>\n",
              "      <td>نادي باقدو</td>\n",
              "      <td>0x15c3d007617bf6cd:0xa1d66f8d697880e6</td>\n",
              "      <td>ChIJzfZ7YQfQwxUR5oB4aY1v1qE</td>\n",
              "      <td>https://www.google.com/maps/place/%D9%86%D8%A7...</td>\n",
              "      <td>https://search.google.com/local/reviews?placei...</td>\n",
              "      <td>{\"1\": 11, \"2\": 3, \"3\": 16, \"4\": 21, \"5\": 84}</td>\n",
              "      <td>4.2</td>\n",
              "      <td>ChdDSUhNMG9nS0VJQ0FnSUNzXzRQai1RRRAB</td>\n",
              "      <td>https://www.google.com/maps/contrib/1084219735...</td>\n",
              "      <td>...</td>\n",
              "      <td>02/19/2020 19:27:57</td>\n",
              "      <td>7</td>\n",
              "      <td>-6785113135436496666</td>\n",
              "      <td>النادي نظيف والمدربات كويسات وعندهم اخصاءيات ع...</td>\n",
              "      <td>النادي نظيف والمدربات كويسات وعندهم اخصاءيات ع...</td>\n",
              "      <td>النادي نظيف والمدربات كويسات وعندهم اخصاءيات ع...</td>\n",
              "      <td>The club is clean and the coaches are good and...</td>\n",
              "      <td>The club is clean and the coaches are good and...</td>\n",
              "      <td>The club is clean and the coaches are good and...</td>\n",
              "      <td>966</td>\n",
              "    </tr>\n",
              "    <tr>\n",
              "      <th>4</th>\n",
              "      <td>gym, Jeddah, Makkah, Saudi Arabia</td>\n",
              "      <td>نادي باقدو</td>\n",
              "      <td>0x15c3d007617bf6cd:0xa1d66f8d697880e6</td>\n",
              "      <td>ChIJzfZ7YQfQwxUR5oB4aY1v1qE</td>\n",
              "      <td>https://www.google.com/maps/place/%D9%86%D8%A7...</td>\n",
              "      <td>https://search.google.com/local/reviews?placei...</td>\n",
              "      <td>{\"1\": 11, \"2\": 3, \"3\": 16, \"4\": 21, \"5\": 84}</td>\n",
              "      <td>4.2</td>\n",
              "      <td>ChZDSUhNMG9nS0VJQ0FnSUNtcHR2dGNREAE</td>\n",
              "      <td>https://www.google.com/maps/contrib/1177852388...</td>\n",
              "      <td>...</td>\n",
              "      <td>12/27/2021 10:40:08</td>\n",
              "      <td>0</td>\n",
              "      <td>-6785113135436496666</td>\n",
              "      <td>النادي جميل ومدربات راءعات لكن نجوم لصغر حجمه</td>\n",
              "      <td>النادي جميل ومدربات راءعات نجوم لصغر حجمه</td>\n",
              "      <td>النادي جميل ومدربات راءعات نجوم لصغر حجمه</td>\n",
              "      <td>The club is beautiful and the coaches of the s...</td>\n",
              "      <td>The club is beautiful and the coaches of the s...</td>\n",
              "      <td>The club is beautiful and the coaches of the s...</td>\n",
              "      <td>107</td>\n",
              "    </tr>\n",
              "  </tbody>\n",
              "</table>\n",
              "<p>5 rows × 31 columns</p>\n",
              "</div>"
            ],
            "text/plain": [
              "                               query        name  \\\n",
              "0  gym, Jeddah, Makkah, Saudi Arabia  نادي باقدو   \n",
              "1  gym, Jeddah, Makkah, Saudi Arabia  نادي باقدو   \n",
              "2  gym, Jeddah, Makkah, Saudi Arabia  نادي باقدو   \n",
              "3  gym, Jeddah, Makkah, Saudi Arabia  نادي باقدو   \n",
              "4  gym, Jeddah, Makkah, Saudi Arabia  نادي باقدو   \n",
              "\n",
              "                               google_id                     place_id  \\\n",
              "0  0x15c3d007617bf6cd:0xa1d66f8d697880e6  ChIJzfZ7YQfQwxUR5oB4aY1v1qE   \n",
              "1  0x15c3d007617bf6cd:0xa1d66f8d697880e6  ChIJzfZ7YQfQwxUR5oB4aY1v1qE   \n",
              "2  0x15c3d007617bf6cd:0xa1d66f8d697880e6  ChIJzfZ7YQfQwxUR5oB4aY1v1qE   \n",
              "3  0x15c3d007617bf6cd:0xa1d66f8d697880e6  ChIJzfZ7YQfQwxUR5oB4aY1v1qE   \n",
              "4  0x15c3d007617bf6cd:0xa1d66f8d697880e6  ChIJzfZ7YQfQwxUR5oB4aY1v1qE   \n",
              "\n",
              "                                       location_link  \\\n",
              "0  https://www.google.com/maps/place/%D9%86%D8%A7...   \n",
              "1  https://www.google.com/maps/place/%D9%86%D8%A7...   \n",
              "2  https://www.google.com/maps/place/%D9%86%D8%A7...   \n",
              "3  https://www.google.com/maps/place/%D9%86%D8%A7...   \n",
              "4  https://www.google.com/maps/place/%D9%86%D8%A7...   \n",
              "\n",
              "                                        reviews_link  \\\n",
              "0  https://search.google.com/local/reviews?placei...   \n",
              "1  https://search.google.com/local/reviews?placei...   \n",
              "2  https://search.google.com/local/reviews?placei...   \n",
              "3  https://search.google.com/local/reviews?placei...   \n",
              "4  https://search.google.com/local/reviews?placei...   \n",
              "\n",
              "                              reviews_per_score  rating  \\\n",
              "0  {\"1\": 11, \"2\": 3, \"3\": 16, \"4\": 21, \"5\": 84}     4.2   \n",
              "1  {\"1\": 11, \"2\": 3, \"3\": 16, \"4\": 21, \"5\": 84}     4.2   \n",
              "2  {\"1\": 11, \"2\": 3, \"3\": 16, \"4\": 21, \"5\": 84}     4.2   \n",
              "3  {\"1\": 11, \"2\": 3, \"3\": 16, \"4\": 21, \"5\": 84}     4.2   \n",
              "4  {\"1\": 11, \"2\": 3, \"3\": 16, \"4\": 21, \"5\": 84}     4.2   \n",
              "\n",
              "                              review_id  \\\n",
              "0  ChdDSUhNMG9nS0VJQ0FnSUNXMFB1eGpBRRAB   \n",
              "1   ChZDSUhNMG9nS0VJQ0FnSURLNWZ5YmV3EAE   \n",
              "2   ChZDSUhNMG9nS0VJQ0FnSUNXNS1IeGFBEAE   \n",
              "3  ChdDSUhNMG9nS0VJQ0FnSUNzXzRQai1RRRAB   \n",
              "4   ChZDSUhNMG9nS0VJQ0FnSUNtcHR2dGNREAE   \n",
              "\n",
              "                                         author_link  ...  \\\n",
              "0  https://www.google.com/maps/contrib/1008799843...  ...   \n",
              "1  https://www.google.com/maps/contrib/1040919533...  ...   \n",
              "2  https://www.google.com/maps/contrib/1074136482...  ...   \n",
              "3  https://www.google.com/maps/contrib/1084219735...  ...   \n",
              "4  https://www.google.com/maps/contrib/1177852388...  ...   \n",
              "\n",
              "   review_datetime_utc review_likes           reviews_id  \\\n",
              "0  02/15/2022 16:24:51            0 -6785113135436496666   \n",
              "1  06/27/2021 22:07:36           10 -6785113135436496666   \n",
              "2  03/08/2022 18:09:01            1 -6785113135436496666   \n",
              "3  02/19/2020 19:27:57            7 -6785113135436496666   \n",
              "4  12/27/2021 10:40:08            0 -6785113135436496666   \n",
              "\n",
              "                                     Cleaned_Reviews  \\\n",
              "0  النادي نظيف للغايه التعقيم بشكل مستمر اخصاءيه ...   \n",
              "1  نظافه اهتمام بالاحترازات ومراقبه الكمام ماعدا ...   \n",
              "2  من اجمل النوادي مشمس بالنهار والمدربات ممتازات...   \n",
              "3  النادي نظيف والمدربات كويسات وعندهم اخصاءيات ع...   \n",
              "4      النادي جميل ومدربات راءعات لكن نجوم لصغر حجمه   \n",
              "\n",
              "                                     Tokeniz_Reviews  \\\n",
              "0  النادي نظيف للغايه التعقيم بشكل مستمر اخصاءيه ...   \n",
              "1  نظافه اهتمام بالاحترازات ومراقبه الكمام ماعدا ...   \n",
              "2  اجمل النوادي مشمس بالنهار والمدربات ممتازات صا...   \n",
              "3  النادي نظيف والمدربات كويسات وعندهم اخصاءيات ع...   \n",
              "4          النادي جميل ومدربات راءعات نجوم لصغر حجمه   \n",
              "\n",
              "                                    pTokeniz_Reviews  \\\n",
              "0  النادي نظيف للغايه التعقيم بشكل مستمر اخصاءيه ...   \n",
              "1  نظافه اهتمام بالاحترازات ومراقبه الكمام ماعدا ...   \n",
              "2  اجمل النوادي مشمس بالنهار والمدربات ممتازات صا...   \n",
              "3  النادي نظيف والمدربات كويسات وعندهم اخصاءيات ع...   \n",
              "4          النادي جميل ومدربات راءعات نجوم لصغر حجمه   \n",
              "\n",
              "                                  Translated_Reviews  \\\n",
              "0  The club is very clean sterilization continuously   \n",
              "1  Cleaning interest in precautions and observati...   \n",
              "2  The most beautiful clubs are sunny during the ...   \n",
              "3  The club is clean and the coaches are good and...   \n",
              "4  The club is beautiful and the coaches of the s...   \n",
              "\n",
              "                                trim_data_lemmatized  \\\n",
              "0  The club is very clean sterilization continuously   \n",
              "1  Cleaning interest in precautions and observati...   \n",
              "2  The most beautiful clubs are sunny during the ...   \n",
              "3  The club is clean and the coaches are good and...   \n",
              "4  The club is beautiful and the coaches of the s...   \n",
              "\n",
              "                               final_data_lemmatized  \\\n",
              "0  The club is very clean sterilization continuou...   \n",
              "1  Cleaning interest in precautions and observati...   \n",
              "2  The most beautiful clubs are sunny during the ...   \n",
              "3  The club is clean and the coaches are good and...   \n",
              "4  The club is beautiful and the coaches of the s...   \n",
              "\n",
              "   reviewLength_after_lemmatize  \n",
              "0                           284  \n",
              "1                          1724  \n",
              "2                           172  \n",
              "3                           966  \n",
              "4                           107  \n",
              "\n",
              "[5 rows x 31 columns]"
            ]
          },
          "execution_count": 13,
          "metadata": {},
          "output_type": "execute_result"
        }
      ],
      "source": [
        "data.head()"
      ]
    },
    {
      "cell_type": "markdown",
      "metadata": {
        "id": "8wV6M24qwutk"
      },
      "source": [
        "# Labeling"
      ]
    },
    {
      "cell_type": "code",
      "execution_count": 14,
      "metadata": {},
      "outputs": [],
      "source": [
        "#يحسب طول كل مراجعة و يخزنها في عامود جديد\n",
        "data['wordsCount'] = data[\"review_text\"].apply(lambda x: len(x.split()))\n",
        "\n",
        "words = data['wordsCount'].iteritems #عشان نعمل لوب صف صف\n",
        "count =  data['wordsCount'].count() #يحسب عدد الصفوف\n",
        "Avgwords= data[\"wordsCount\"].mean()#متوسط الطول لكل المراجعات\n",
        "\n",
        "#هذا الكود عشان يحدد اذا طول المراجعة شاذ او لا\n",
        "for index, row in words(): \n",
        " \n",
        "   def Avgwords_dev(row ):\n",
        "\n",
        "      if row >= math.floor(Avgwords)  : #هنا يعتبر الناتج ريل\n",
        "         return 0\n",
        "\n",
        "      elif row < math.floor(Avgwords)  : # هنا يعتبر فك\n",
        "         return 1\n",
        "\n",
        "   if index == count - 1:\n",
        "      break\n",
        "\n",
        "data['dc_Avgwords'] = data['wordsCount'].apply(Avgwords_dev) "
      ]
    },
    {
      "cell_type": "code",
      "execution_count": 15,
      "metadata": {},
      "outputs": [],
      "source": [
        "\n",
        "words = data['review_rating'].iteritems #عشان نعمل لوب صف صف\n",
        "count =  data['Tokeniz_Reviews'].count() #يحسب عدد الصفوف\n",
        "\n",
        "AvgRat = data['rating'].iteritems #عشان نعمل لوب صف صف\n",
        "\n",
        "# هذا الكود عشان يجيب الافرح ريتنج من سطر واحد\n",
        "for index, row in AvgRat(): \n",
        " \n",
        " Avg= row\n",
        "\n",
        " if index ==1:\n",
        "      break\n",
        " \n",
        "AvgRating=Avg \n",
        "\n",
        "# هذا الكود يقارن الريتنج بالافرج ريتنج\n",
        "for index, row in words(): \n",
        " \n",
        "   def AvgRating_dev(row ):\n",
        "\n",
        "      if row >= math.floor(AvgRating)  : #هنا يعتبر الناتج ريل\n",
        "         return 0\n",
        "\n",
        "      elif row < math.floor(AvgRating)  : # هنا يعتبر فك\n",
        "         return 1\n",
        "\n",
        "   if index == count - 1:\n",
        "      break\n",
        "\n",
        "   #اضفنا عمود جديد فيه البيانات التوكنايزد\n",
        "# Tokenization the text in the Cleaned_Reviews column\n",
        "data['dc_rating'] = data['review_rating'].apply(AvgRating_dev) "
      ]
    },
    {
      "cell_type": "code",
      "execution_count": 16,
      "metadata": {},
      "outputs": [],
      "source": [
        "words = data['Translated_Reviews'].iteritems #عشان نعمل لوب صف صف\n",
        "count =  data['Translated_Reviews'].count() #يحسب عدد الصفوف\n",
        "\n",
        "for index, sentence in words(): \n",
        "\n",
        "    def sentiment_scores(sentence):\n",
        "\n",
        "        # Create a SentimentIntensityAnalyzer object.\n",
        "        sid_obj = SentimentIntensityAnalyzer()\n",
        "        \n",
        "        sentiment_dict = sid_obj.polarity_scores(sentence)\n",
        "\n",
        "        sentiment_neg = sentiment_dict['neg']*100\n",
        "        sentiment_neu = sentiment_dict['neu']*100  \n",
        "        sentiment_pos= sentiment_dict['pos']*100\n",
        "        sentiment_compound=sentiment_dict['compound'] \n",
        "\n",
        "        sentiment_avg = sentiment_pos + sentiment_neg\n",
        "\n",
        "        if math.floor(sentiment_neu) >= math.floor(sentiment_avg)  : #هنا يعتبر الناتج ريل\n",
        "            return 0\n",
        "        \n",
        "        elif math.floor(sentiment_neu) < math.floor(sentiment_avg)  : # هنا يعتبر فك\n",
        "            return 1\n",
        "\n",
        "    if index == count - 1:\n",
        "        break\n",
        "\n",
        "\n",
        "data['dc_sentiment'] = data['Translated_Reviews'].apply(sentiment_scores)\n",
        " "
      ]
    },
    {
      "cell_type": "code",
      "execution_count": 39,
      "metadata": {},
      "outputs": [],
      "source": [
        "data.dropna(axis=1, how='all', inplace=True)\n",
        " "
      ]
    },
    {
      "cell_type": "code",
      "execution_count": 22,
      "metadata": {},
      "outputs": [
        {
          "data": {
            "text/plain": [
              "Index(['dc_Avgwords', 'dc_rating', 'dc_sentiment'], dtype='object')"
            ]
          },
          "execution_count": 22,
          "metadata": {},
          "output_type": "execute_result"
        }
      ],
      "source": [
        "data.columns[29:32]"
      ]
    },
    {
      "cell_type": "code",
      "execution_count": 23,
      "metadata": {},
      "outputs": [],
      "source": [
        "data['All_dc'] = data[data.columns[29:32]].apply( lambda x: ' '.join(x.dropna().astype(str)), axis=1 )"
      ]
    },
    {
      "cell_type": "code",
      "execution_count": 24,
      "metadata": {},
      "outputs": [],
      "source": [
        "words = data['All_dc'].iteritems #عشان نعمل لوب صف صف\n",
        "count = data['All_dc'].count() #يحسب عدد الصفوف\n",
        "\n",
        "for index, row in words():\n",
        "\n",
        "    def label_scores(row): \n",
        "\n",
        "        x = row.split()\n",
        "\n",
        "        wor =  x[0]\n",
        "        rat =  x[1] \n",
        "        sent = x[2]\n",
        "\n",
        "        if wor ==\"0\" and rat  ==\"0\" and sent ==\"0\":\n",
        "                return \"FAKE\"\n",
        "\n",
        "        elif (wor ==\"0\" and rat  ==\"0\" and sent ==\"1\") or (wor ==\"1\" and rat  ==\"0\" and sent ==\"0\") or (wor ==\"0\" and rat  ==\"1\" and sent ==\"0\"):\n",
        "                return \"FAKE\"\n",
        "\n",
        "        elif (wor ==\"1\" and rat  ==\"1\" and sent ==\"1\") :\n",
        "            return \"REAL\"\n",
        "\n",
        "        elif (wor ==\"0\" and rat  ==\"1\" and sent ==\"1\") or (wor ==\"1\" and rat  ==\"1\" and sent ==\"0\") or (wor ==\"1\" and rat  ==\"0\" and sent ==\"1\"):\n",
        "            return \"REAL\"\n",
        "\n",
        "        else : \n",
        "          return \"NONE\"\n",
        "\n",
        "\n",
        "   \n",
        "    if index == count - 1:\n",
        "     break\n",
        "\n",
        "data['given_class'] = data['All_dc'].apply(label_scores)\n",
        " "
      ]
    },
    {
      "cell_type": "markdown",
      "metadata": {
        "id": "xqfRqoma0G4W"
      },
      "source": [
        "Y/YR - Filtered Reviews - 1 \n",
        "\n",
        "N/NR - Non-Filtered Reviews - 0"
      ]
    },
    {
      "cell_type": "code",
      "execution_count": 25,
      "metadata": {},
      "outputs": [
        {
          "data": {
            "text/plain": [
              "FAKE    42\n",
              "REAL    27\n",
              "Name: given_class, dtype: int64"
            ]
          },
          "execution_count": 25,
          "metadata": {},
          "output_type": "execute_result"
        }
      ],
      "source": [
        "tb_counts = data['given_class'].value_counts()\n",
        "tb_counts"
      ]
    },
    {
      "cell_type": "code",
      "execution_count": 26,
      "metadata": {
        "colab": {
          "base_uri": "https://localhost:8080/",
          "height": 355
        },
        "id": "zPf7lFKY0lFt",
        "outputId": "4235f0df-f6d8-46f9-f129-bc7f782c8d27"
      },
      "outputs": [
        {
          "data": {
            "image/png": "[encoded data removed]",
            "text/plain": [
              "<Figure size 360x360 with 1 Axes>"
            ]
          },
          "metadata": {},
          "output_type": "display_data"
        }
      ],
      "source": [
        "import matplotlib.pyplot as plt\n",
        "from sklearn.preprocessing import LabelEncoder\n",
        "plt.style.use('ggplot')\n",
        "import seaborn as sns\n",
        "sns.set_style('white')\n",
        "\n",
        "label = data.given_class\n",
        "\n",
        "pd.Series(label).value_counts().plot(kind='pie', title='Labels Distribution', figsize=(5, 5))\n",
        "\n",
        "le = LabelEncoder()\n",
        "le.fit(label)\n",
        "dummy_y = le.transform(label)"
      ]
    },
    {
      "cell_type": "code",
      "execution_count": 28,
      "metadata": {},
      "outputs": [
        {
          "data": {
            "text/html": [
              "<div>\n",
              "<style scoped>\n",
              "    .dataframe tbody tr th:only-of-type {\n",
              "        vertical-align: middle;\n",
              "    }\n",
              "\n",
              "    .dataframe tbody tr th {\n",
              "        vertical-align: top;\n",
              "    }\n",
              "\n",
              "    .dataframe thead th {\n",
              "        text-align: right;\n",
              "    }\n",
              "</style>\n",
              "<table border=\"1\" class=\"dataframe\">\n",
              "  <thead>\n",
              "    <tr style=\"text-align: right;\">\n",
              "      <th></th>\n",
              "      <th>query</th>\n",
              "      <th>name</th>\n",
              "      <th>google_id</th>\n",
              "      <th>place_id</th>\n",
              "      <th>location_link</th>\n",
              "      <th>reviews_link</th>\n",
              "      <th>reviews_per_score</th>\n",
              "      <th>rating</th>\n",
              "      <th>review_id</th>\n",
              "      <th>author_link</th>\n",
              "      <th>...</th>\n",
              "      <th>Translated_Reviews</th>\n",
              "      <th>trim_data_lemmatized</th>\n",
              "      <th>final_data_lemmatized</th>\n",
              "      <th>reviewLength_after_lemmatize</th>\n",
              "      <th>wordsCount</th>\n",
              "      <th>dc_Avgwords</th>\n",
              "      <th>dc_rating</th>\n",
              "      <th>dc_sentiment</th>\n",
              "      <th>All_dc</th>\n",
              "      <th>given_class</th>\n",
              "    </tr>\n",
              "  </thead>\n",
              "  <tbody>\n",
              "    <tr>\n",
              "      <th>0</th>\n",
              "      <td>gym, Jeddah, Makkah, Saudi Arabia</td>\n",
              "      <td>نادي باقدو</td>\n",
              "      <td>0x15c3d007617bf6cd:0xa1d66f8d697880e6</td>\n",
              "      <td>ChIJzfZ7YQfQwxUR5oB4aY1v1qE</td>\n",
              "      <td>https://www.google.com/maps/place/%D9%86%D8%A7...</td>\n",
              "      <td>https://search.google.com/local/reviews?placei...</td>\n",
              "      <td>{\"1\": 11, \"2\": 3, \"3\": 16, \"4\": 21, \"5\": 84}</td>\n",
              "      <td>4.2</td>\n",
              "      <td>ChdDSUhNMG9nS0VJQ0FnSUNXMFB1eGpBRRAB</td>\n",
              "      <td>https://www.google.com/maps/contrib/1008799843...</td>\n",
              "      <td>...</td>\n",
              "      <td>The club is very clean sterilization continuously</td>\n",
              "      <td>The club is very clean sterilization continuously</td>\n",
              "      <td>The club is very clean sterilization continuou...</td>\n",
              "      <td>284</td>\n",
              "      <td>43</td>\n",
              "      <td>0</td>\n",
              "      <td>0</td>\n",
              "      <td>0</td>\n",
              "      <td>0 0 0</td>\n",
              "      <td>FAKE</td>\n",
              "    </tr>\n",
              "    <tr>\n",
              "      <th>1</th>\n",
              "      <td>gym, Jeddah, Makkah, Saudi Arabia</td>\n",
              "      <td>نادي باقدو</td>\n",
              "      <td>0x15c3d007617bf6cd:0xa1d66f8d697880e6</td>\n",
              "      <td>ChIJzfZ7YQfQwxUR5oB4aY1v1qE</td>\n",
              "      <td>https://www.google.com/maps/place/%D9%86%D8%A7...</td>\n",
              "      <td>https://search.google.com/local/reviews?placei...</td>\n",
              "      <td>{\"1\": 11, \"2\": 3, \"3\": 16, \"4\": 21, \"5\": 84}</td>\n",
              "      <td>4.2</td>\n",
              "      <td>ChZDSUhNMG9nS0VJQ0FnSURLNWZ5YmV3EAE</td>\n",
              "      <td>https://www.google.com/maps/contrib/1040919533...</td>\n",
              "      <td>...</td>\n",
              "      <td>Cleaning interest in precautions and observati...</td>\n",
              "      <td>Cleaning interest in precautions and observati...</td>\n",
              "      <td>Cleaning interest in precautions and observati...</td>\n",
              "      <td>1724</td>\n",
              "      <td>224</td>\n",
              "      <td>0</td>\n",
              "      <td>0</td>\n",
              "      <td>0</td>\n",
              "      <td>0 0 0</td>\n",
              "      <td>FAKE</td>\n",
              "    </tr>\n",
              "    <tr>\n",
              "      <th>2</th>\n",
              "      <td>gym, Jeddah, Makkah, Saudi Arabia</td>\n",
              "      <td>نادي باقدو</td>\n",
              "      <td>0x15c3d007617bf6cd:0xa1d66f8d697880e6</td>\n",
              "      <td>ChIJzfZ7YQfQwxUR5oB4aY1v1qE</td>\n",
              "      <td>https://www.google.com/maps/place/%D9%86%D8%A7...</td>\n",
              "      <td>https://search.google.com/local/reviews?placei...</td>\n",
              "      <td>{\"1\": 11, \"2\": 3, \"3\": 16, \"4\": 21, \"5\": 84}</td>\n",
              "      <td>4.2</td>\n",
              "      <td>ChZDSUhNMG9nS0VJQ0FnSUNXNS1IeGFBEAE</td>\n",
              "      <td>https://www.google.com/maps/contrib/1074136482...</td>\n",
              "      <td>...</td>\n",
              "      <td>The most beautiful clubs are sunny during the ...</td>\n",
              "      <td>The most beautiful clubs are sunny during the ...</td>\n",
              "      <td>The most beautiful clubs are sunny during the ...</td>\n",
              "      <td>172</td>\n",
              "      <td>16</td>\n",
              "      <td>1</td>\n",
              "      <td>0</td>\n",
              "      <td>0</td>\n",
              "      <td>1 0 0</td>\n",
              "      <td>FAKE</td>\n",
              "    </tr>\n",
              "    <tr>\n",
              "      <th>3</th>\n",
              "      <td>gym, Jeddah, Makkah, Saudi Arabia</td>\n",
              "      <td>نادي باقدو</td>\n",
              "      <td>0x15c3d007617bf6cd:0xa1d66f8d697880e6</td>\n",
              "      <td>ChIJzfZ7YQfQwxUR5oB4aY1v1qE</td>\n",
              "      <td>https://www.google.com/maps/place/%D9%86%D8%A7...</td>\n",
              "      <td>https://search.google.com/local/reviews?placei...</td>\n",
              "      <td>{\"1\": 11, \"2\": 3, \"3\": 16, \"4\": 21, \"5\": 84}</td>\n",
              "      <td>4.2</td>\n",
              "      <td>ChdDSUhNMG9nS0VJQ0FnSUNzXzRQai1RRRAB</td>\n",
              "      <td>https://www.google.com/maps/contrib/1084219735...</td>\n",
              "      <td>...</td>\n",
              "      <td>The club is clean and the coaches are good and...</td>\n",
              "      <td>The club is clean and the coaches are good and...</td>\n",
              "      <td>The club is clean and the coaches are good and...</td>\n",
              "      <td>966</td>\n",
              "      <td>90</td>\n",
              "      <td>0</td>\n",
              "      <td>1</td>\n",
              "      <td>0</td>\n",
              "      <td>0 1 0</td>\n",
              "      <td>FAKE</td>\n",
              "    </tr>\n",
              "    <tr>\n",
              "      <th>4</th>\n",
              "      <td>gym, Jeddah, Makkah, Saudi Arabia</td>\n",
              "      <td>نادي باقدو</td>\n",
              "      <td>0x15c3d007617bf6cd:0xa1d66f8d697880e6</td>\n",
              "      <td>ChIJzfZ7YQfQwxUR5oB4aY1v1qE</td>\n",
              "      <td>https://www.google.com/maps/place/%D9%86%D8%A7...</td>\n",
              "      <td>https://search.google.com/local/reviews?placei...</td>\n",
              "      <td>{\"1\": 11, \"2\": 3, \"3\": 16, \"4\": 21, \"5\": 84}</td>\n",
              "      <td>4.2</td>\n",
              "      <td>ChZDSUhNMG9nS0VJQ0FnSUNtcHR2dGNREAE</td>\n",
              "      <td>https://www.google.com/maps/contrib/1177852388...</td>\n",
              "      <td>...</td>\n",
              "      <td>The club is beautiful and the coaches of the s...</td>\n",
              "      <td>The club is beautiful and the coaches of the s...</td>\n",
              "      <td>The club is beautiful and the coaches of the s...</td>\n",
              "      <td>107</td>\n",
              "      <td>9</td>\n",
              "      <td>1</td>\n",
              "      <td>0</td>\n",
              "      <td>0</td>\n",
              "      <td>1 0 0</td>\n",
              "      <td>FAKE</td>\n",
              "    </tr>\n",
              "  </tbody>\n",
              "</table>\n",
              "<p>5 rows × 34 columns</p>\n",
              "</div>"
            ],
            "text/plain": [
              "                               query        name  \\\n",
              "0  gym, Jeddah, Makkah, Saudi Arabia  نادي باقدو   \n",
              "1  gym, Jeddah, Makkah, Saudi Arabia  نادي باقدو   \n",
              "2  gym, Jeddah, Makkah, Saudi Arabia  نادي باقدو   \n",
              "3  gym, Jeddah, Makkah, Saudi Arabia  نادي باقدو   \n",
              "4  gym, Jeddah, Makkah, Saudi Arabia  نادي باقدو   \n",
              "\n",
              "                               google_id                     place_id  \\\n",
              "0  0x15c3d007617bf6cd:0xa1d66f8d697880e6  ChIJzfZ7YQfQwxUR5oB4aY1v1qE   \n",
              "1  0x15c3d007617bf6cd:0xa1d66f8d697880e6  ChIJzfZ7YQfQwxUR5oB4aY1v1qE   \n",
              "2  0x15c3d007617bf6cd:0xa1d66f8d697880e6  ChIJzfZ7YQfQwxUR5oB4aY1v1qE   \n",
              "3  0x15c3d007617bf6cd:0xa1d66f8d697880e6  ChIJzfZ7YQfQwxUR5oB4aY1v1qE   \n",
              "4  0x15c3d007617bf6cd:0xa1d66f8d697880e6  ChIJzfZ7YQfQwxUR5oB4aY1v1qE   \n",
              "\n",
              "                                       location_link  \\\n",
              "0  https://www.google.com/maps/place/%D9%86%D8%A7...   \n",
              "1  https://www.google.com/maps/place/%D9%86%D8%A7...   \n",
              "2  https://www.google.com/maps/place/%D9%86%D8%A7...   \n",
              "3  https://www.google.com/maps/place/%D9%86%D8%A7...   \n",
              "4  https://www.google.com/maps/place/%D9%86%D8%A7...   \n",
              "\n",
              "                                        reviews_link  \\\n",
              "0  https://search.google.com/local/reviews?placei...   \n",
              "1  https://search.google.com/local/reviews?placei...   \n",
              "2  https://search.google.com/local/reviews?placei...   \n",
              "3  https://search.google.com/local/reviews?placei...   \n",
              "4  https://search.google.com/local/reviews?placei...   \n",
              "\n",
              "                              reviews_per_score  rating  \\\n",
              "0  {\"1\": 11, \"2\": 3, \"3\": 16, \"4\": 21, \"5\": 84}     4.2   \n",
              "1  {\"1\": 11, \"2\": 3, \"3\": 16, \"4\": 21, \"5\": 84}     4.2   \n",
              "2  {\"1\": 11, \"2\": 3, \"3\": 16, \"4\": 21, \"5\": 84}     4.2   \n",
              "3  {\"1\": 11, \"2\": 3, \"3\": 16, \"4\": 21, \"5\": 84}     4.2   \n",
              "4  {\"1\": 11, \"2\": 3, \"3\": 16, \"4\": 21, \"5\": 84}     4.2   \n",
              "\n",
              "                              review_id  \\\n",
              "0  ChdDSUhNMG9nS0VJQ0FnSUNXMFB1eGpBRRAB   \n",
              "1   ChZDSUhNMG9nS0VJQ0FnSURLNWZ5YmV3EAE   \n",
              "2   ChZDSUhNMG9nS0VJQ0FnSUNXNS1IeGFBEAE   \n",
              "3  ChdDSUhNMG9nS0VJQ0FnSUNzXzRQai1RRRAB   \n",
              "4   ChZDSUhNMG9nS0VJQ0FnSUNtcHR2dGNREAE   \n",
              "\n",
              "                                         author_link  ...  \\\n",
              "0  https://www.google.com/maps/contrib/1008799843...  ...   \n",
              "1  https://www.google.com/maps/contrib/1040919533...  ...   \n",
              "2  https://www.google.com/maps/contrib/1074136482...  ...   \n",
              "3  https://www.google.com/maps/contrib/1084219735...  ...   \n",
              "4  https://www.google.com/maps/contrib/1177852388...  ...   \n",
              "\n",
              "                                  Translated_Reviews  \\\n",
              "0  The club is very clean sterilization continuously   \n",
              "1  Cleaning interest in precautions and observati...   \n",
              "2  The most beautiful clubs are sunny during the ...   \n",
              "3  The club is clean and the coaches are good and...   \n",
              "4  The club is beautiful and the coaches of the s...   \n",
              "\n",
              "                                trim_data_lemmatized  \\\n",
              "0  The club is very clean sterilization continuously   \n",
              "1  Cleaning interest in precautions and observati...   \n",
              "2  The most beautiful clubs are sunny during the ...   \n",
              "3  The club is clean and the coaches are good and...   \n",
              "4  The club is beautiful and the coaches of the s...   \n",
              "\n",
              "                               final_data_lemmatized  \\\n",
              "0  The club is very clean sterilization continuou...   \n",
              "1  Cleaning interest in precautions and observati...   \n",
              "2  The most beautiful clubs are sunny during the ...   \n",
              "3  The club is clean and the coaches are good and...   \n",
              "4  The club is beautiful and the coaches of the s...   \n",
              "\n",
              "  reviewLength_after_lemmatize wordsCount dc_Avgwords  dc_rating  \\\n",
              "0                          284         43           0          0   \n",
              "1                         1724        224           0          0   \n",
              "2                          172         16           1          0   \n",
              "3                          966         90           0          1   \n",
              "4                          107          9           1          0   \n",
              "\n",
              "   dc_sentiment All_dc  given_class  \n",
              "0             0  0 0 0         FAKE  \n",
              "1             0  0 0 0         FAKE  \n",
              "2             0  1 0 0         FAKE  \n",
              "3             0  0 1 0         FAKE  \n",
              "4             0  1 0 0         FAKE  \n",
              "\n",
              "[5 rows x 34 columns]"
            ]
          },
          "execution_count": 28,
          "metadata": {},
          "output_type": "execute_result"
        }
      ],
      "source": [
        "data.head()"
      ]
    },
    {
      "cell_type": "markdown",
      "metadata": {
        "id": "7tju4QYC1Kxn"
      },
      "source": [
        "# Train - Val - Test Split"
      ]
    },
    {
      "cell_type": "markdown",
      "metadata": {
        "id": "hXmz6duF1WGi"
      },
      "source": [
        "Train 80% - Test 20% split"
      ]
    },
    {
      "cell_type": "code",
      "execution_count": 29,
      "metadata": {
        "colab": {
          "base_uri": "https://localhost:8080/",
          "height": 52
        },
        "id": "m99C1fzZ1VXd",
        "outputId": "6dc22105-c36a-402e-9646-64c781431341"
      },
      "outputs": [
        {
          "name": "stdout",
          "output_type": "stream",
          "text": [
            "Train data=  (55,) + (55,)\n",
            "Test data=  (14,) + (14,)\n"
          ]
        }
      ],
      "source": [
        "from sklearn.model_selection import train_test_split\n",
        "\n",
        "X_train, X_test, y_train, y_test  = train_test_split(data.final_data_lemmatized, \n",
        "                                                                        dummy_y, \n",
        "                                                               stratify=dummy_y,\n",
        "                                                                  test_size=0.2, \n",
        "                                                                 random_state=3)\n",
        "print(\"Train data= \",X_train.shape,\"+\",y_train.shape)  \n",
        "print(\"Test data= \",X_test.shape,\"+\",y_test.shape)"
      ]
    },
    {
      "cell_type": "markdown",
      "metadata": {
        "id": "hfIt_hF914uj"
      },
      "source": [
        "Train 90% - Validation 10% split"
      ]
    },
    {
      "cell_type": "code",
      "execution_count": 30,
      "metadata": {
        "id": "NNfnfgHz1e2s"
      },
      "outputs": [],
      "source": [
        "# X_train, X_val, y_train, y_val  = train_test_split(X_train, \n",
        "#                                                    y_train, \n",
        "#                                           stratify=y_train,\n",
        "#                                              test_size=0.1, \n",
        "#                                             random_state=1)\n",
        "# print(\"Train data= \",X_train.shape,\"+\",y_train.shape)  \n",
        "# print(\"Val data= \",X_val.shape,\"+\",y_val.shape)"
      ]
    },
    {
      "cell_type": "markdown",
      "metadata": {
        "id": "IGqy9_bY1-O1"
      },
      "source": [
        "# Converting reviews to vectors"
      ]
    },
    {
      "cell_type": "markdown",
      "metadata": {
        "id": "6qUDUEOc2xfo"
      },
      "source": [
        "Converting texts to sequences and then applying padding"
      ]
    },
    {
      "cell_type": "code",
      "execution_count": 31,
      "metadata": {
        "colab": {
          "base_uri": "https://localhost:8080/",
          "height": 34
        },
        "id": "m1ZvYNtn2UeI",
        "outputId": "16566719-2e6d-457d-9d5f-41c92e10a72b"
      },
      "outputs": [
        {
          "name": "stdout",
          "output_type": "stream",
          "text": [
            "400000\n"
          ]
        }
      ],
      "source": [
        "from numpy import array\n",
        "from keras.preprocessing.text import one_hot\n",
        "from keras.preprocessing.sequence import pad_sequences\n",
        "vocab_size = 400000\n",
        " \n",
        "from keras.preprocessing.text import Tokenizer\n",
        "word_tokenizer = Tokenizer(num_words=vocab_size)\n",
        "# word_tokenizer = Tokenizer()\n",
        " \n",
        "word_tokenizer.fit_on_texts(X_train)\n",
        "# vocab_size = len(word_tokenizer.word_index) + 1\n",
        "print(vocab_size)\n",
        " \n",
        "trainDatavecs = word_tokenizer.texts_to_sequences(X_train)\n",
        "trainDataVecs = pad_sequences(trainDatavecs, maxlen=maxReviewLength, padding='post')\n",
        " \n",
        "# valDataVecs = word_tokenizer.texts_to_sequences(X_val)\n",
        "# valDataVecs = pad_sequences(valDataVecs, maxlen=maxReviewLength, padding='post')\n",
        " \n",
        "testDataVecs = word_tokenizer.texts_to_sequences(X_test)\n",
        "testDataVecs = pad_sequences(testDataVecs, maxlen=maxReviewLength, padding='post')"
      ]
    },
    {
      "cell_type": "markdown",
      "metadata": {
        "id": "5kh18_sq273q"
      },
      "source": [
        "# Training and Testing the Data"
      ]
    },
    {
      "cell_type": "markdown",
      "metadata": {
        "id": "AsolXrv23TQu"
      },
      "source": [
        "LSTM Deep Learning Model"
      ]
    },
    {
      "cell_type": "code",
      "execution_count": 32,
      "metadata": {
        "colab": {
          "base_uri": "https://localhost:8080/",
          "height": 682
        },
        "id": "bLUw8yqW3AGF",
        "outputId": "38b9e8ef-db8d-4424-e02f-7853f4bdb8b2"
      },
      "outputs": [
        {
          "name": "stdout",
          "output_type": "stream",
          "text": [
            "Model: \"sequential\"\n",
            "_________________________________________________________________\n",
            " Layer (type)                Output Shape              Param #   \n",
            "=================================================================\n",
            " embedding (Embedding)       (None, 155, 256)          102400000 \n",
            "                                                                 \n",
            " spatial_dropout1d (SpatialD  (None, 155, 256)         0         \n",
            " ropout1D)                                                       \n",
            "                                                                 \n",
            " conv1d (Conv1D)             (None, 151, 128)          163968    \n",
            "                                                                 \n",
            " dropout (Dropout)           (None, 151, 128)          0         \n",
            "                                                                 \n",
            " max_pooling1d (MaxPooling1D  (None, 50, 128)          0         \n",
            " )                                                               \n",
            "                                                                 \n",
            " dropout_1 (Dropout)         (None, 50, 128)           0         \n",
            "                                                                 \n",
            " batch_normalization (BatchN  (None, 50, 128)          512       \n",
            " ormalization)                                                   \n",
            "                                                                 \n",
            " bidirectional (Bidirectiona  (None, 50, 128)          98816     \n",
            " l)                                                              \n",
            "                                                                 \n",
            " batch_normalization_1 (Batc  (None, 50, 128)          512       \n",
            " hNormalization)                                                 \n",
            "                                                                 \n",
            " bidirectional_1 (Bidirectio  (None, 50, 64)           41216     \n",
            " nal)                                                            \n",
            "                                                                 \n",
            " batch_normalization_2 (Batc  (None, 50, 64)           256       \n",
            " hNormalization)                                                 \n",
            "                                                                 \n",
            " global_max_pooling1d (Globa  (None, 64)               0         \n",
            " lMaxPooling1D)                                                  \n",
            "                                                                 \n",
            " dense (Dense)               (None, 64)                4160      \n",
            "                                                                 \n",
            " dense_1 (Dense)             (None, 1)                 65        \n",
            "                                                                 \n",
            "=================================================================\n",
            "Total params: 102,709,505\n",
            "Trainable params: 102,708,865\n",
            "Non-trainable params: 640\n",
            "_________________________________________________________________\n",
            "None\n"
          ]
        }
      ],
      "source": [
        "from keras.layers.recurrent import LSTM\n",
        "from keras.layers.convolutional import Conv1D, MaxPooling1D\n",
        "from keras.layers import Dropout,  Bidirectional, Dense, BatchNormalization,  GlobalMaxPool1D, SpatialDropout1D\n",
        "from keras.models import Sequential\n",
        "from keras.layers.embeddings import Embedding\n",
        "from keras.regularizers import l1_l2\n",
        "import keras\n",
        "from tensorflow import keras\n",
        "\n",
        "model = Sequential()\n",
        "\n",
        "model.add(Embedding(vocab_size, 256, input_length=maxReviewLength))\n",
        "\n",
        "model.add((SpatialDropout1D(0.3)))\n",
        "\n",
        "model.add(Conv1D(128, 5, activation='relu', kernel_regularizer=l1_l2(l1=1e-5, l2=1e-4)))\n",
        "model.add(Dropout(0.25))\n",
        "model.add(MaxPooling1D(pool_size=3))\n",
        "model.add(Dropout(0.5))\n",
        "\n",
        "model.add(BatchNormalization())\n",
        "\n",
        "model.add(Bidirectional(LSTM(64, dropout=0.25, recurrent_dropout=0.2, return_sequences=True, kernel_regularizer=l1_l2(l1=1e-5, l2=1e-4))))\n",
        "model.add(BatchNormalization())\n",
        "\n",
        "model.add(Bidirectional(LSTM(32, dropout=0.25, recurrent_dropout=0.2, return_sequences=True, kernel_regularizer=l1_l2(l1=1e-5, l2=1e-4))))\n",
        "model.add(BatchNormalization())\n",
        "\n",
        "model.add(GlobalMaxPool1D())\n",
        "\n",
        "model.add(Dense(64, kernel_regularizer=l1_l2(l1=1e-5, l2=1e-4)))\n",
        "\n",
        "model.add(Dense(1, activation='sigmoid', kernel_regularizer=l1_l2(l1=1e-5, l2=1e-4)))\n",
        "\n",
        "opt = keras.optimizers.Adam(learning_rate=0.0001)\n",
        "model.compile(loss='binary_crossentropy', optimizer=opt, metrics=['accuracy'])\n",
        "print(model.summary())"
      ]
    },
    {
      "cell_type": "markdown",
      "metadata": {
        "id": "pvZUW9LV3feu"
      },
      "source": [
        "Training the data"
      ]
    },
    {
      "cell_type": "code",
      "execution_count": 33,
      "metadata": {
        "colab": {
          "base_uri": "https://localhost:8080/",
          "height": 432
        },
        "id": "m-hZLRXi3cY4",
        "outputId": "2c5441ee-1686-43ec-80b2-018541f72518"
      },
      "outputs": [
        {
          "name": "stdout",
          "output_type": "stream",
          "text": [
            "Epoch 1/10\n",
            "1/1 [==============================] - 20s 20s/step - loss: 1.1823 - accuracy: 0.4000\n",
            "Epoch 2/10\n",
            "1/1 [==============================] - 2s 2s/step - loss: 0.9548 - accuracy: 0.5636\n",
            "Epoch 3/10\n",
            "1/1 [==============================] - 2s 2s/step - loss: 0.8760 - accuracy: 0.6364\n",
            "Epoch 4/10\n",
            "1/1 [==============================] - 2s 2s/step - loss: 0.8855 - accuracy: 0.6545\n",
            "Epoch 5/10\n",
            "1/1 [==============================] - 2s 2s/step - loss: 1.0386 - accuracy: 0.4364\n",
            "Epoch 6/10\n",
            "1/1 [==============================] - 2s 2s/step - loss: 0.8622 - accuracy: 0.6727\n",
            "Epoch 7/10\n",
            "1/1 [==============================] - 2s 2s/step - loss: 0.8379 - accuracy: 0.6727\n",
            "Epoch 8/10\n",
            "1/1 [==============================] - 2s 2s/step - loss: 0.7613 - accuracy: 0.7091\n",
            "Epoch 9/10\n",
            "1/1 [==============================] - 2s 2s/step - loss: 0.6853 - accuracy: 0.7818\n",
            "Epoch 10/10\n",
            "1/1 [==============================] - 1s 1s/step - loss: 0.7904 - accuracy: 0.6364\n"
          ]
        }
      ],
      "source": [
        "from sklearn.metrics import accuracy_score\n",
        "from keras.callbacks import ModelCheckpoint \n",
        "\n",
        "final_accuracies = []\n",
        "history_train = []\n",
        "\n",
        "noOfEpochs = 10\n",
        "batchSize = 1024 \n",
        "\n",
        "# filename = 'best.weights.hdf5'\n",
        "# checkpointer = ModelCheckpoint(filepath=filename, verbose=1, save_best_only=True)\n",
        "history_train.append(model.fit(trainDataVecs, y_train, epochs=noOfEpochs, batch_size=batchSize))\n",
        "# model.load_weights(filename)\n",
        "# predicted = np.rint(model.predict(valDataVecs))\n",
        "# final_accuracies.append(accuracy_score(y_val, predicted))\n",
        "# print(accuracy_score(y_val, predicted))"
      ]
    },
    {
      "cell_type": "markdown",
      "metadata": {
        "id": "cWbf3XRA7hPE"
      },
      "source": [
        "Training Results"
      ]
    },
    {
      "cell_type": "markdown",
      "metadata": {},
      "source": [
        "model statistics by using the lists in which you appended the accuracy and loss of the model."
      ]
    },
    {
      "cell_type": "code",
      "execution_count": 34,
      "metadata": {
        "colab": {
          "base_uri": "https://localhost:8080/",
          "height": 298
        },
        "id": "J6ruuogMTGnZ",
        "outputId": "b52fc3f3-7aa5-43bc-ba65-0e5576e05e32"
      },
      "outputs": [
        {
          "data": {
            "image/png": "[encoded data removed]",
            "text/plain": [
              "<Figure size 432x288 with 1 Axes>"
            ]
          },
          "metadata": {},
          "output_type": "display_data"
        }
      ],
      "source": [
        "from itertools import chain\n",
        "import matplotlib.pyplot as plt\n",
        "\n",
        "acc_train = history_train[0].history['accuracy']\n",
        "# acc_val = history_train[0].history['val_accuracy']\n",
        "epochs = range(0,len(acc_train))\n",
        "plt.plot(epochs, acc_train, 'g', label='Training Accuracy')\n",
        "# plt.plot(epochs, acc_val, 'b', label='Validation Accuracy')\n",
        "plt.title('Training and Validation Accuracy')\n",
        "plt.xlabel('Epochs')\n",
        "plt.ylabel('Accuracy')\n",
        "plt.legend()\n",
        "plt.show()"
      ]
    },
    {
      "cell_type": "code",
      "execution_count": 35,
      "metadata": {
        "colab": {
          "base_uri": "https://localhost:8080/",
          "height": 298
        },
        "id": "Ffetuqr9TVcC",
        "outputId": "4f2cec6e-b3b1-493b-ea3d-d97becee5bdb"
      },
      "outputs": [
        {
          "data": {
            "image/png": "[encoded data removed]",
            "text/plain": [
              "<Figure size 432x288 with 1 Axes>"
            ]
          },
          "metadata": {},
          "output_type": "display_data"
        }
      ],
      "source": [
        "loss_train = history_train[0].history['loss']\n",
        "# loss_val = history_train[0].history['val_loss']\n",
        "epochs = range(0,len(loss_train))\n",
        "plt.plot(epochs, loss_train, 'g', label='Training loss')\n",
        "# plt.plot(epochs, loss_val, 'b', label='Validation loss')\n",
        "plt.title('Training and Validation loss')\n",
        "plt.xlabel('Epochs')\n",
        "plt.ylabel('Loss')\n",
        "plt.legend()\n",
        "plt.show()"
      ]
    },
    {
      "cell_type": "markdown",
      "metadata": {
        "id": "gMU0R8oa7bAP"
      },
      "source": [
        "Final Test Accuracy"
      ]
    },
    {
      "cell_type": "code",
      "execution_count": 36,
      "metadata": {
        "colab": {
          "base_uri": "https://localhost:8080/",
          "height": 34
        },
        "id": "FbGURv1xTr1F",
        "outputId": "232d35ce-e6e5-48cc-8052-25c77f8621ee"
      },
      "outputs": [
        {
          "name": "stdout",
          "output_type": "stream",
          "text": [
            "Test accuracy =  0.6428571428571429\n"
          ]
        }
      ],
      "source": [
        "# model.load_weights(filename)\n",
        "predicted = np.rint(model.predict(testDataVecs))\n",
        "print(\"Test accuracy = \",accuracy_score(y_test, predicted))"
      ]
    },
    {
      "cell_type": "code",
      "execution_count": 37,
      "metadata": {},
      "outputs": [],
      "source": [
        "from sklearn import datasets\n",
        "from sklearn.tree import DecisionTreeClassifier\n",
        "from sklearn.model_selection import train_test_split\n",
        "from sklearn.metrics import classification_report, confusion_matrix"
      ]
    },
    {
      "cell_type": "code",
      "execution_count": 38,
      "metadata": {},
      "outputs": [
        {
          "name": "stdout",
          "output_type": "stream",
          "text": [
            "              precision    recall  f1-score   support\n",
            "\n",
            "           0       0.64      1.00      0.78         9\n",
            "           1       0.00      0.00      0.00         5\n",
            "\n",
            "    accuracy                           0.64        14\n",
            "   macro avg       0.32      0.50      0.39        14\n",
            "weighted avg       0.41      0.64      0.50        14\n",
            "\n"
          ]
        },
        {
          "name": "stderr",
          "output_type": "stream",
          "text": [
            "c:\\Users\\w_ewe\\AppData\\Local\\Programs\\Python\\Python310\\lib\\site-packages\\sklearn\\metrics\\_classification.py:1318: UndefinedMetricWarning: Precision and F-score are ill-defined and being set to 0.0 in labels with no predicted samples. Use `zero_division` parameter to control this behavior.\n",
            "c:\\Users\\w_ewe\\AppData\\Local\\Programs\\Python\\Python310\\lib\\site-packages\\sklearn\\metrics\\_classification.py:1318: UndefinedMetricWarning: Precision and F-score are ill-defined and being set to 0.0 in labels with no predicted samples. Use `zero_division` parameter to control this behavior.\n",
            "c:\\Users\\w_ewe\\AppData\\Local\\Programs\\Python\\Python310\\lib\\site-packages\\sklearn\\metrics\\_classification.py:1318: UndefinedMetricWarning: Precision and F-score are ill-defined and being set to 0.0 in labels with no predicted samples. Use `zero_division` parameter to control this behavior.\n"
          ]
        }
      ],
      "source": [
        "print(classification_report(y_test, predicted))\n"
      ]
    }
  ],
  "metadata": {
    "accelerator": "TPU",
    "colab": {
      "collapsed_sections": [],
      "include_colab_link": true,
      "name": "Final Model Fake Review Detection on Yelp Restaurant Data.ipynb",
      "provenance": []
    },
    "interpreter": {
      "hash": "2ece5ca4899efea7b6563fa4fde7895ce4948b19aac0db7af49ef1f883d3a308"
    },
    "kernelspec": {
      "display_name": "Python 3.10.4 64-bit",
      "language": "python",
      "name": "python3"
    },
    "language_info": {
      "codemirror_mode": {
        "name": "ipython",
        "version": 3
      },
      "file_extension": ".py",
      "mimetype": "text/x-python",
      "name": "python",
      "nbconvert_exporter": "python",
      "pygments_lexer": "ipython3",
      "version": "3.10.4"
    }
  },
  "nbformat": 4,
  "nbformat_minor": 0
}
